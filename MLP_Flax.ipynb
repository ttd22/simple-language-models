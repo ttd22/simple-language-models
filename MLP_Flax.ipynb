{
  "nbformat": 4,
  "nbformat_minor": 0,
  "metadata": {
    "colab": {
      "provenance": []
    },
    "kernelspec": {
      "name": "python3",
      "display_name": "Python 3"
    },
    "language_info": {
      "name": "python"
    }
  },
  "cells": [
    {
      "cell_type": "code",
      "execution_count": 1,
      "metadata": {
        "colab": {
          "base_uri": "https://localhost:8080/"
        },
        "id": "zzXapNexbziQ",
        "outputId": "16db058f-b17c-44ca-ca5f-f5b1d437b817"
      },
      "outputs": [
        {
          "output_type": "stream",
          "name": "stdout",
          "text": [
            "Mounted at /content/drive\n"
          ]
        }
      ],
      "source": [
        "import pandas as pd\n",
        "from google.colab import drive\n",
        "drive.mount('/content/drive')\n",
        "file = \"/content/sample_data/names.txt\"\n",
        "words = open(file, 'r').read().splitlines()"
      ]
    },
    {
      "cell_type": "code",
      "source": [
        "# build the vocabulary of characters and mappings to/from integers\n",
        "chars = sorted(list(set(''.join(words))))\n",
        "stoi = {s:i+1 for i,s in enumerate(chars)}\n",
        "stoi['.'] = 0\n",
        "itos = {i:s for s,i in stoi.items()}\n",
        "print(itos)"
      ],
      "metadata": {
        "colab": {
          "base_uri": "https://localhost:8080/"
        },
        "id": "mEbCfm_5cWAf",
        "outputId": "93198b17-09b8-4383-e7d1-1ac546992342"
      },
      "execution_count": 2,
      "outputs": [
        {
          "output_type": "stream",
          "name": "stdout",
          "text": [
            "{1: 'a', 2: 'b', 3: 'c', 4: 'd', 5: 'e', 6: 'f', 7: 'g', 8: 'h', 9: 'i', 10: 'j', 11: 'k', 12: 'l', 13: 'm', 14: 'n', 15: 'o', 16: 'p', 17: 'q', 18: 'r', 19: 's', 20: 't', 21: 'u', 22: 'v', 23: 'w', 24: 'x', 25: 'y', 26: 'z', 0: '.'}\n"
          ]
        }
      ]
    },
    {
      "cell_type": "code",
      "source": [
        "import jax.numpy as jnp\n",
        "import flax.linen as nn\n",
        "from jax import random as jrand"
      ],
      "metadata": {
        "id": "zDpbQOdGetRB"
      },
      "execution_count": 16,
      "outputs": []
    },
    {
      "cell_type": "code",
      "source": [
        "# build the dataset\n",
        "block_size = 3 # context length: how many characters do we take to predict the next one?\n",
        "\n",
        "def build_dataset(words):  \n",
        "  X, Y = [], []\n",
        "  for w in words:\n",
        "\n",
        "    #print(w)\n",
        "    context = [0] * block_size\n",
        "    for ch in w + '.':\n",
        "      ix = stoi[ch]\n",
        "      X.append(context)\n",
        "      Y.append(ix)\n",
        "      # print(''.join(itos[i] for i in context), '--->', itos[ix])\n",
        "      context = context[1:] + [ix] # crop and append\n",
        "\n",
        "  X = jnp.array(X)\n",
        "  Y = jnp.array(Y)\n",
        "  print(X.shape, Y.shape)\n",
        "  return X, Y\n",
        "\n",
        "import random\n",
        "random.seed(42)\n",
        "random.shuffle(words)\n",
        "n1 = int(0.8*len(words))\n",
        "n2 = int(0.9*len(words))\n",
        "\n",
        "Xtr, Ytr = build_dataset(words[:n1])\n",
        "Xdev, Ydev = build_dataset(words[n1:n2])\n",
        "Xte, Yte = build_dataset(words[n2:])"
      ],
      "metadata": {
        "colab": {
          "base_uri": "https://localhost:8080/"
        },
        "id": "n4salPXEcapA",
        "outputId": "0f75d6ab-9a1d-489f-f56e-f94f6d00e09a"
      },
      "execution_count": 8,
      "outputs": [
        {
          "output_type": "stream",
          "name": "stdout",
          "text": [
            "(182424, 3) (182424,)\n",
            "(22836, 3) (22836,)\n",
            "(22886, 3) (22886,)\n"
          ]
        }
      ]
    },
    {
      "cell_type": "code",
      "source": [
        "Xtr.shape, Ytr.shape # dataset"
      ],
      "metadata": {
        "colab": {
          "base_uri": "https://localhost:8080/"
        },
        "id": "RVeWRt8ZfedW",
        "outputId": "6da6c797-705a-4f92-c47f-fd4e4a5b18f9"
      },
      "execution_count": 12,
      "outputs": [
        {
          "output_type": "execute_result",
          "data": {
            "text/plain": [
              "((182424, 3), (182424,))"
            ]
          },
          "metadata": {},
          "execution_count": 12
        }
      ]
    },
    {
      "cell_type": "code",
      "source": [
        "class MLP(nn.Module):                    # create a Flax Module dataclass\n",
        "  out_dims: int\n",
        "\n",
        "  @nn.compact\n",
        "  def __call__(self, x):\n",
        "    x = x.reshape((x.shape[0], -1))\n",
        "    x = nn.Dense(128)(x)                 # create inline Flax Module submodules\n",
        "    x = nn.relu(x)\n",
        "    x = nn.Dense(self.out_dims)(x)       # shape inference\n",
        "    return x\n",
        "\n",
        "model = MLP(out_dims=10)                 # instantiate the MLP model\n",
        "\n",
        "variables = model.init(jrand.PRNGKey(42), Xtr)   # initialize the weights\n",
        "ypred = model.apply(variables, Xtr)            # make forward pass"
      ],
      "metadata": {
        "id": "E9bLwlU9rN3F"
      },
      "execution_count": 29,
      "outputs": []
    },
    {
      "cell_type": "code",
      "source": [
        "print(ypred)"
      ],
      "metadata": {
        "colab": {
          "base_uri": "https://localhost:8080/"
        },
        "id": "alQ5RTtOsyji",
        "outputId": "b9bee352-2d38-43ee-af87-9157a6cda8eb"
      },
      "execution_count": 30,
      "outputs": [
        {
          "output_type": "stream",
          "name": "stdout",
          "text": [
            "[[  0.           0.           0.         ...   0.           0.\n",
            "    0.        ]\n",
            " [ -1.549385     1.1581401    3.9109955  ...   9.256715     0.36870533\n",
            "   -7.1365685 ]\n",
            " [ -5.8675942    4.907771    -3.6533298  ...   6.919122     3.9543676\n",
            "  -17.98331   ]\n",
            " ...\n",
            " [-13.749264     0.28428558  -3.8214917  ...   7.0870366   14.090424\n",
            "  -11.266693  ]\n",
            " [-11.456205    -0.11970448   3.3698568  ...  12.974055     4.3092194\n",
            "  -11.987412  ]\n",
            " [ -4.798683     5.6485534   -5.9289436  ...   3.5573502    7.177225\n",
            "   -9.64392   ]]\n"
          ]
        }
      ]
    }
  ]
}